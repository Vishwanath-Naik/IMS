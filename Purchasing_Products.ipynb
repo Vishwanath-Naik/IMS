{
 "cells": [
  {
   "cell_type": "markdown",
   "id": "5cf0483e",
   "metadata": {},
   "source": [
    "# Read Inventory"
   ]
  },
  {
   "cell_type": "code",
   "execution_count": null,
   "id": "b4ef962a",
   "metadata": {},
   "outputs": [],
   "source": [
    "import json\n",
    "fd = open(\"record.json\",'r')\n",
    "r = fd.read()\n",
    "fd.close()\n",
    "record= json.loads(r)\n",
    "record"
   ]
  },
  {
   "cell_type": "markdown",
   "id": "2ec9eddd",
   "metadata": {},
   "source": [
    "# Purchase"
   ]
  },
  {
   "cell_type": "code",
   "execution_count": null,
   "id": "1a566131",
   "metadata": {},
   "outputs": [],
   "source": [
    "def purchase():\n",
    "    from datetime import datetime\n",
    "    product_id = str(input(\"Enter the product_Id: \"))\n",
    "    ui_quantity = int(input(\"Enter the quantity: \"))\n",
    "\n",
    "    print(\"====================bill=======================\")\n",
    "    print(\"Product: \", record[product_id]['name'])\n",
    "    print(\"Price: \", record[product_id]['price'])\n",
    "    print(\"==================================================\")\n",
    "    print(\"Billing Amount: \", record[product_id]['price'] * ui_quantity)\n",
    "    record[product_id]['quantity'] = record[product_id]['quantity'] - ui_quantity\n",
    "    js = json.dumps(record)\n",
    "    fd = open(\"record.json\",'w')\n",
    "    fd.write(js)\n",
    "    fd.close()\n",
    "    \n",
    "    fd=open(\"sales.json\",\"r\")\n",
    "    fd.read\n",
    "    i=len(sales)\n",
    "    sales[i+1]={'product_id' : product_id, 'name':record[product_id]['name'],'category':record[product_id]['category'],'price':record[product_id]['price'],'quantity' : ui_quantity, 'amount': record[product_id]['price'] * ui_quantity,'time':datetime.today().strftime(\"%Y-%m-%d  %H:%M:%S\")}\n",
    "    sale = json.dumps(sales[2])\n",
    "    fd= open(\"sales.json\",'a')\n",
    "    fd.write(sale)\n",
    "    fd.close()\n",
    "    sales\n",
    "    print(sales[i],\"\\n is purchased sucessfully\")\n"
   ]
  },
  {
   "cell_type": "code",
   "execution_count": null,
   "id": "ff857fa7",
   "metadata": {},
   "outputs": [],
   "source": [
    "sales[1]={'product_id' : 1001, 'name':\"Choco Cake\",'category':\"chocolate\",'price':10,'quantity' : 10, 'amount': 100}"
   ]
  },
  {
   "cell_type": "code",
   "execution_count": null,
   "id": "c6f1f6df",
   "metadata": {},
   "outputs": [],
   "source": [
    "purchase()"
   ]
  },
  {
   "cell_type": "code",
   "execution_count": null,
   "id": "c82e2fd6",
   "metadata": {},
   "outputs": [],
   "source": []
  }
 ],
 "metadata": {
  "kernelspec": {
   "display_name": "Python 3",
   "language": "python",
   "name": "python3"
  },
  "language_info": {
   "codemirror_mode": {
    "name": "ipython",
    "version": 3
   },
   "file_extension": ".py",
   "mimetype": "text/x-python",
   "name": "python",
   "nbconvert_exporter": "python",
   "pygments_lexer": "ipython3",
   "version": "3.8.8"
  }
 },
 "nbformat": 4,
 "nbformat_minor": 5
}
