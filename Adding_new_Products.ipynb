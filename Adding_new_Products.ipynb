{
 "cells": [
  {
   "cell_type": "markdown",
   "id": "e201de8b",
   "metadata": {},
   "source": [
    "# Read Data from JSON"
   ]
  },
  {
   "cell_type": "code",
   "execution_count": 10,
   "id": "85f4e0b3",
   "metadata": {},
   "outputs": [
    {
     "data": {
      "text/plain": [
       "{'1001': {'name': 'Choco Cake',\n",
       "  'price': 10,\n",
       "  'category': 'Chocolate',\n",
       "  'quantity': 6},\n",
       " '1002': {'name': 'Milk Cake',\n",
       "  'price': 10,\n",
       "  'category': 'Chocolate',\n",
       "  'quantity': 110},\n",
       " '1003': {'name': 'Dairy Milk',\n",
       "  'price': 20,\n",
       "  'category': 'Chocolate',\n",
       "  'quantity': 50},\n",
       " '1004': {'name': 'keyboard',\n",
       "  'price': 800,\n",
       "  'category': 'electronics',\n",
       "  'quantity': 20},\n",
       " '1005': {'name': 'vivo',\n",
       "  'price': 25000,\n",
       "  'category': 'electronics',\n",
       "  'quantity': 10},\n",
       " '1006': {'name': 'dark chocolate',\n",
       "  'price': 25,\n",
       "  'category': 'chocolate',\n",
       "  'quantity': 100}}"
      ]
     },
     "execution_count": 10,
     "metadata": {},
     "output_type": "execute_result"
    }
   ],
   "source": [
    "import json\n",
    "fd = open(\"record.json\",'r')\n",
    "r = fd.read()\n",
    "fd.close()\n",
    "record = json.loads(r)\n",
    "record"
   ]
  },
  {
   "cell_type": "markdown",
   "id": "8f65f406",
   "metadata": {},
   "source": [
    "# Add New Item into Inventory"
   ]
  },
  {
   "cell_type": "code",
   "execution_count": 6,
   "id": "d7039891",
   "metadata": {},
   "outputs": [],
   "source": [
    "def add_item():\n",
    "    from datetime import datetime\n",
    "    product_id = str(input(\"Enter product id:\"))\n",
    "    if product_id in record:\n",
    "        print(record[product_id])\n",
    "        print(\"\\nThis product already exist\")\n",
    "        x=str(input(\"\\nDo you want to add more quantity? (Yes/No):\"))\n",
    "        if(x==\"Yes\"):\n",
    "            ui_quantity=int(input(\"Enter the Quantity:\"))\n",
    "            record[product_id][\"quantity\"]=record[product_id][\"quantity\"]+ui_quantity\n",
    "            js = json.dumps(record)\n",
    "            fd = open(\"record.json\",'w')\n",
    "            fd.write(js)\n",
    "            fd.close()\n",
    "            print(\"\\n\",record[product_id],\"\\n sucessfully updated\",ui_quantity ,\"quantities\")\n",
    "        else:\n",
    "            return\n",
    "    else:\n",
    "        name = str(input(\"Enter name:\"))\n",
    "        price = int(input(\"Enter price:\"))\n",
    "        category=str(input(\"Enter the product category:\"))\n",
    "        ui_quantity = int(input(\"Enter quantity:\"))\n",
    "\n",
    "        record[product_id] = {'name': name, 'price': price,'category':category, 'quantity': ui_quantity}\n",
    "\n",
    "        js= json.dumps(record)\n",
    "\n",
    "        fd= open(\"record.json\",'w')\n",
    "        fd.write(js)\n",
    "        fd.close()\n",
    "        print(record[product_id],\"\\n added sucessfully\")\n",
    "\n",
    "    \n",
    "    print(\"\\n\\n\\n---------------------Bill----------------------\") \n",
    "    print(\"                          \",datetime.today().strftime(\"%Y-%m-%d  %H:%M:%S\"))\n",
    "    print(\"     Product:  \", record[product_id]['name'])\n",
    "    print(\"     Category: \", record[product_id]['category'])\n",
    "    print(\"     Price:    \", record[product_id]['price'],\"Rs\")\n",
    "    print(\"     Quantity: \", ui_quantity)\n",
    "    print(\"-----------------------------------------------\")\n",
    "    print(\"     Billing Amount: \", record[product_id]['price'] * ui_quantity,\"Rs\")   "
   ]
  },
  {
   "cell_type": "code",
   "execution_count": 38,
   "id": "329254f9",
   "metadata": {},
   "outputs": [
    {
     "name": "stdout",
     "output_type": "stream",
     "text": [
      "Enter product id:1030\n",
      "Enter name:a4 sheet\n",
      "Enter price:2\n",
      "Enter the product category:school items\n",
      "Enter quantity:500\n",
      "{'name': 'a4 sheet', 'price': 2, 'category': 'school items', 'quantity': 500} \n",
      " added sucessfully\n",
      "\n",
      "\n",
      "\n",
      "---------------------Bill----------------------\n",
      "                           2021-09-06  20:21:58\n",
      "     Product:   a4 sheet\n",
      "     Category:  school items\n",
      "     Price:     2 Rs\n",
      "     Quantity:  500\n",
      "-----------------------------------------------\n",
      "     Billing Amount:  1000 Rs\n"
     ]
    }
   ],
   "source": [
    "add_item()"
   ]
  },
  {
   "cell_type": "code",
   "execution_count": 39,
   "id": "7a946652",
   "metadata": {},
   "outputs": [
    {
     "data": {
      "text/plain": [
       "{'1001': {'name': 'Choco Cake',\n",
       "  'price': 10,\n",
       "  'category': 'Chocolate',\n",
       "  'quantity': 6},\n",
       " '1002': {'name': 'Milk Cake',\n",
       "  'price': 10,\n",
       "  'category': 'Chocolate',\n",
       "  'quantity': 110},\n",
       " '1003': {'name': 'Dairy Milk',\n",
       "  'price': 20,\n",
       "  'category': 'Chocolate',\n",
       "  'quantity': 50},\n",
       " '1004': {'name': 'keyboard',\n",
       "  'price': 800,\n",
       "  'category': 'electronics',\n",
       "  'quantity': 20},\n",
       " '1005': {'name': 'vivo',\n",
       "  'price': 25000,\n",
       "  'category': 'electronics',\n",
       "  'quantity': 10},\n",
       " '1006': {'name': 'dark chocolate',\n",
       "  'price': 25,\n",
       "  'category': 'chocolate',\n",
       "  'quantity': 100},\n",
       " '1007': {'name': 'cadberry',\n",
       "  'price': 50,\n",
       "  'category': 'chocolate',\n",
       "  'quantity': 100},\n",
       " '1008': {'name': 'pendrive', 'price': 400, 'category': '20', 'quantity': 50},\n",
       " '1009': {'name': 'pen',\n",
       "  'price': 5,\n",
       "  'category': 'school items',\n",
       "  'quantity': 100},\n",
       " '1010': {'name': 'pencil',\n",
       "  'price': 4,\n",
       "  'category': 'school items',\n",
       "  'quantity': 100},\n",
       " '1011': {'name': 'good day',\n",
       "  'price': 25,\n",
       "  'category': 'biscuit',\n",
       "  'quantity': 200},\n",
       " '1012': {'name': 'mat',\n",
       "  'price': 100,\n",
       "  'category': 'households',\n",
       "  'quantity': 5},\n",
       " '1013': {'name': 'bulb',\n",
       "  'price': 30,\n",
       "  'category': 'households',\n",
       "  'quantity': 20},\n",
       " '1014': {'name': 'tooth brush',\n",
       "  'price': 20,\n",
       "  'category': 'households',\n",
       "  'quantity': 20},\n",
       " '1015': {'name': 'tooth paste',\n",
       "  'price': 25,\n",
       "  'category': 'households',\n",
       "  'quantity': 20},\n",
       " '1016': {'name': 'soap',\n",
       "  'price': 25,\n",
       "  'category': 'households',\n",
       "  'quantity': 25},\n",
       " '1017': {'name': 'book',\n",
       "  'price': 30,\n",
       "  'category': 'school item',\n",
       "  'quantity': 50},\n",
       " '1018': {'name': 'bag',\n",
       "  'price': 600,\n",
       "  'category': 'school item',\n",
       "  'quantity': 6},\n",
       " '1019': {'name': 'gum',\n",
       "  'price': 10,\n",
       "  'category': 'house holds',\n",
       "  'quantity': 30},\n",
       " '1021': {'name': 'kurkure', 'price': 10, 'category': 'food', 'quantity': 50},\n",
       " '1022': {'name': 'lays', 'price': 10, 'category': 'food', 'quantity': 60},\n",
       " '1023': {'name': 'powder',\n",
       "  'price': 25,\n",
       "  'category': 'households',\n",
       "  'quantity': 20},\n",
       " '1025': {'name': 'belt',\n",
       "  'price': 50,\n",
       "  'category': 'households',\n",
       "  'quantity': 5},\n",
       " '1026': {'name': 'book',\n",
       "  'price': 75,\n",
       "  'category': 'school item',\n",
       "  'quantity': 20},\n",
       " '1027': {'name': 'chocolate',\n",
       "  'price': 25,\n",
       "  'category': 'chocolate',\n",
       "  'quantity': 25},\n",
       " '1029': {'name': 'parle-G',\n",
       "  'price': 10,\n",
       "  'category': 'biscuit',\n",
       "  'quantity': 30},\n",
       " '1030': {'name': 'a4 sheet',\n",
       "  'price': 2,\n",
       "  'category': 'school items',\n",
       "  'quantity': 500}}"
      ]
     },
     "execution_count": 39,
     "metadata": {},
     "output_type": "execute_result"
    }
   ],
   "source": [
    "record"
   ]
  },
  {
   "cell_type": "code",
   "execution_count": null,
   "id": "2b9afe2a",
   "metadata": {},
   "outputs": [],
   "source": []
  }
 ],
 "metadata": {
  "kernelspec": {
   "display_name": "Python 3",
   "language": "python",
   "name": "python3"
  },
  "language_info": {
   "codemirror_mode": {
    "name": "ipython",
    "version": 3
   },
   "file_extension": ".py",
   "mimetype": "text/x-python",
   "name": "python",
   "nbconvert_exporter": "python",
   "pygments_lexer": "ipython3",
   "version": "3.8.8"
  }
 },
 "nbformat": 4,
 "nbformat_minor": 5
}
